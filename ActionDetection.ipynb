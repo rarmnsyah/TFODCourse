{
 "cells": [
  {
   "cell_type": "code",
   "execution_count": 2,
   "id": "ed36a32a",
   "metadata": {},
   "outputs": [],
   "source": [
    "import numpy as np\n",
    "import pandas as pd\n",
    "import matplotlib.pyplot as plt\n",
    "import os\n",
    "import time\n",
    "import cv2\n",
    "import mediapipe as mp"
   ]
  },
  {
   "cell_type": "markdown",
   "id": "8b893414",
   "metadata": {},
   "source": [
    "### DEFINE FUNCTION"
   ]
  },
  {
   "cell_type": "code",
   "execution_count": 3,
   "id": "d17235cc",
   "metadata": {},
   "outputs": [],
   "source": [
    "mp_holistic = mp.solutions.holistic\n",
    "mp_drawing = mp.solutions.drawing_utils"
   ]
  },
  {
   "cell_type": "code",
   "execution_count": 4,
   "id": "134df0b7",
   "metadata": {},
   "outputs": [],
   "source": [
    "def mediapipe_detection(image,model):\n",
    "    image = cv2.cvtColor(image, cv2.COLOR_BGR2RGB) #converted color of image from bgr to rgb\n",
    "    image.flags.writeable = False #Image is no longer to writeable\n",
    "    results = model.process(image) #Make prediction\n",
    "    image.flags.writeable = True #Image is now longer to writeable\n",
    "    image = cv2.cvtColor(image, cv2.COLOR_RGB2BGR) #backconverted color image rgb2bgr\n",
    "    return image, results"
   ]
  },
  {
   "cell_type": "code",
   "execution_count": 5,
   "id": "e54d8222",
   "metadata": {},
   "outputs": [],
   "source": [
    "def draw_landmarks(image,results):\n",
    "    mp_drawing.draw_landmarks(image, results.face_landmarks, mp_holistic.FACEMESH_CONTOURS,\n",
    "                             mp_drawing.DrawingSpec(color=(0,0,255), thickness=1, circle_radius=1),\n",
    "                             mp_drawing.DrawingSpec(thickness=1, circle_radius=1))\n",
    "    mp_drawing.draw_landmarks(image, results.pose_landmarks, mp_holistic.POSE_CONNECTIONS,\n",
    "                             mp_drawing.DrawingSpec(color=(0,0,255),thickness=2, circle_radius=4),\n",
    "                             mp_drawing.DrawingSpec(thickness=2, circle_radius=2))\n",
    "    mp_drawing.draw_landmarks(image, results.left_hand_landmarks, mp_holistic.HAND_CONNECTIONS,\n",
    "                             mp_drawing.DrawingSpec(color=(121,22,76),thickness=4, circle_radius=1),\n",
    "                             mp_drawing.DrawingSpec(color = (121,44,250), thickness=2, circle_radius=1))\n",
    "    mp_drawing.draw_landmarks(image, results.right_hand_landmarks, mp_holistic.HAND_CONNECTIONS,\n",
    "                             mp_drawing.DrawingSpec(color=(245,123,55),thickness=4, circle_radius=1),\n",
    "                             mp_drawing.DrawingSpec(color = (245,66,230),thickness=2, circle_radius=1))"
   ]
  },
  {
   "cell_type": "code",
   "execution_count": 78,
   "id": "8889c383",
   "metadata": {},
   "outputs": [
    {
     "data": {
      "text/plain": [
       "(1662,)"
      ]
     },
     "execution_count": 78,
     "metadata": {},
     "output_type": "execute_result"
    }
   ],
   "source": [
    "def extract_keypoints(results):\n",
    "    pose = np.array([[res.x, res.y, res.z, res.visibility] for res in results.pose_landmarks.landmark] if results.left_hand_landmarks else np.zeros([33,4])).flatten()  \n",
    "    lh = np.array([[res.x, res.y, res.z] for res in results.left_hand_landmarks.landmark] if results.left_hand_landmarks else np.zeros([21,3])).flatten()  \n",
    "    rh = np.array([[res.x, res.y, res.z] for res in results.right_hand_landmarks.landmark] if results.right_hand_landmarks else np.zeros([21,3])).flatten()  \n",
    "    face = np.array([[res.x, res.y, res.z] for res in results.face_landmarks.landmark] if results.face_landmarks else np.zeros([468,3])).flatten()  \n",
    "    return np.concatenate([pose,face,lh,rh])"
   ]
  },
  {
   "cell_type": "code",
   "execution_count": 45,
   "id": "029023da",
   "metadata": {},
   "outputs": [],
   "source": [
    "#Run webcam and save the picture per frame\n",
    "\n",
    "cap = cv2.VideoCapture(0)\n",
    "with mp_holistic.Holistic(min_detection_confidence = 0.5, min_tracking_confidence = 0.5) as holistic:\n",
    "    while cap.isOpened():\n",
    "        ret,frame = cap.read()\n",
    "\n",
    "        image,results = mediapipe_detection(frame, holistic)\n",
    "\n",
    "        draw_landmarks(image,results)\n",
    "        \n",
    "        cv2.imshow(\"OpenCV Feed\", image)\n",
    "\n",
    "        if cv2.waitKey(10) & 0xFF == ord('q'):\n",
    "            break;\n",
    "\n",
    "    cap.release()\n",
    "    cv2.destroyAllWindows()"
   ]
  },
  {
   "cell_type": "markdown",
   "id": "bb8e7e26",
   "metadata": {},
   "source": [
    "### GETTING DATA"
   ]
  },
  {
   "cell_type": "code",
   "execution_count": 89,
   "id": "6ab54f90",
   "metadata": {},
   "outputs": [],
   "source": [
    "DATA_PATH = os.path.join(\"MP_DATA\")\n",
    "actions = np.array(['hello', 'thanks', 'iloveyou'])\n",
    "no_sequences = 30\n",
    "sequence_length = 30"
   ]
  },
  {
   "cell_type": "code",
   "execution_count": 92,
   "id": "e19a4b6a",
   "metadata": {},
   "outputs": [],
   "source": [
    "def build_fold():\n",
    "    for action in actions:\n",
    "        for sequence in range(no_sequences):\n",
    "            try:\n",
    "                os.makedirs(os.path.join(DATA_PATH, action, str(sequence)))\n",
    "            except:\n",
    "                pass\n",
    "build_fold()"
   ]
  },
  {
   "cell_type": "code",
   "execution_count": 93,
   "id": "bb7f5a16",
   "metadata": {},
   "outputs": [],
   "source": [
    "#Run webcam and save the picture per frame\n",
    "\n",
    "cap = cv2.VideoCapture(0)\n",
    "build_fold()\n",
    "with mp_holistic.Holistic(min_detection_confidence = 0.5, min_tracking_confidence = 0.5) as holistic:\n",
    "    for action in actions:\n",
    "        for sequence in range(no_sequences):\n",
    "            for frame_num in range(sequence_length):\n",
    "                ret,frame = cap.read()\n",
    "\n",
    "                image,results = mediapipe_detection(frame, holistic)\n",
    "\n",
    "                draw_landmarks(image,results)\n",
    "                \n",
    "                if frame_num == 0:\n",
    "                    cv2.putText(image, 'STARTING COLLECTION', (120,200), cv2.FONT_HERSHEY_COMPLEX, 1, (0,255,0), 4, cv2.LINE_AA)\n",
    "                    cv2.putText(image, 'Collecting frames for {} Video number {}'.format(action, sequence), (15,12), cv2.FONT_HERSHEY_COMPLEX, 0.5, (0,0,255),1, cv2.LINE_AA)\n",
    "                    cv2.waitKey(2000)\n",
    "                else:\n",
    "                    cv2.putText(image, 'Collecting frames for {} Video number {}'.format(action, sequence), (15,12), cv2.FONT_HERSHEY_COMPLEX, 0.5, (0,0,255),1, cv2.LINE_AA)\n",
    "                    \n",
    "                keypoints = extract_keypoints(results)\n",
    "                npy_path = os.path.join(DATA_PATH, action, str(sequence), str(frame_num))\n",
    "                np.save(npy_path, keypoints)\n",
    "\n",
    "                cv2.imshow(\"OpenCV Feed\", image)\n",
    "        \n",
    "\n",
    "                if cv2.waitKey(10) & 0xFF == ord('q'):\n",
    "                    break;\n",
    "\n",
    "    cap.release()\n",
    "    cv2.destroyAllWindows()\n",
    "    "
   ]
  },
  {
   "cell_type": "markdown",
   "id": "b2af00ad",
   "metadata": {},
   "source": [
    "### PREPROCESS DATA AND CREATE LABELS"
   ]
  },
  {
   "cell_type": "code",
   "execution_count": 94,
   "id": "bc6df45d",
   "metadata": {},
   "outputs": [],
   "source": [
    "from sklearn.model_selection import train_test_split\n",
    "from tensorflow.keras.utils import to_categorical"
   ]
  },
  {
   "cell_type": "code",
   "execution_count": 97,
   "id": "7a6ad2cf",
   "metadata": {},
   "outputs": [],
   "source": [
    "label_map = {label:num for num,label in enumerate(actions)}\n",
    "\n",
    "sequences, labels = [], []\n",
    "\n",
    "for action in actions:\n",
    "    for sequence in range(no_sequences):\n",
    "        win = []\n",
    "        for frame_num in range(sequence_length):\n",
    "            res = np.load(os.path.join(DATA_PATH, action, str(sequence), '{}.npy'.format(frame_num)))\n",
    "            win.append(res)\n",
    "        sequences.append(win)\n",
    "        labels.append(label_map[action ])"
   ]
  },
  {
   "cell_type": "code",
   "execution_count": 116,
   "id": "68830b80",
   "metadata": {},
   "outputs": [],
   "source": [
    "X = np.array(sequences)\n",
    "y = to_categorical(labels).astype(int)\n",
    "\n",
    "X_train, X_test, y_train, y_test = train_test_split(X,y, test_size = 0.05)"
   ]
  },
  {
   "cell_type": "markdown",
   "id": "3716fa29",
   "metadata": {},
   "source": [
    "### BUILD AND TRAIN LSTM NETWORK"
   ]
  },
  {
   "cell_type": "code",
   "execution_count": 117,
   "id": "0d2b7f82",
   "metadata": {},
   "outputs": [],
   "source": [
    "from tensorflow.keras.models import Sequential\n",
    "from tensorflow.keras.layers import LSTM, Dense\n",
    "from tensorflow.keras.callbacks import TensorBoard"
   ]
  },
  {
   "cell_type": "code",
   "execution_count": 118,
   "id": "030758dc",
   "metadata": {},
   "outputs": [],
   "source": [
    "log_dir = os.path.join('Logs')\n",
    "tb_callbacks = TensorBoard(log_dir = log_dir)"
   ]
  },
  {
   "cell_type": "code",
   "execution_count": 119,
   "id": "68b81b52",
   "metadata": {},
   "outputs": [],
   "source": [
    "model = Sequential()\n",
    "model.add(LSTM(64, input_shape = (30,1662), activation = 'relu', return_sequences = True))\n",
    "model.add(LSTM(128, activation = 'relu', return_sequences = True))\n",
    "model.add(LSTM(64,activation = 'relu', return_sequences = False))\n",
    "model.add(Dense(64, activation = 'relu'))\n",
    "model.add(Dense(32, activation = 'relu'))\n",
    "model.add(Dense(actions.shape[0], activation = 'softmax'))"
   ]
  },
  {
   "cell_type": "code",
   "execution_count": 120,
   "id": "12bcbffc",
   "metadata": {},
   "outputs": [],
   "source": [
    "model.compile(optimizer = 'Adam', loss = 'categorical_crossentropy', metrics = ['categorical_accuracy'])"
   ]
  },
  {
   "cell_type": "code",
   "execution_count": 122,
   "id": "4a673a77",
   "metadata": {},
   "outputs": [
    {
     "name": "stdout",
     "output_type": "stream",
     "text": [
      "Epoch 1/2000\n",
      "3/3 [==============================] - 6s 342ms/step - loss: 4.5749 - categorical_accuracy: 0.3176\n",
      "Epoch 2/2000\n",
      "3/3 [==============================] - 1s 223ms/step - loss: 41.2895 - categorical_accuracy: 0.3529\n",
      "Epoch 3/2000\n",
      "3/3 [==============================] - 1s 206ms/step - loss: 21.1425 - categorical_accuracy: 0.3412\n",
      "Epoch 4/2000\n",
      "3/3 [==============================] - 0s 162ms/step - loss: 11.0842 - categorical_accuracy: 0.2471\n",
      "Epoch 5/2000\n",
      "3/3 [==============================] - 0s 155ms/step - loss: 9.4330 - categorical_accuracy: 0.4588\n",
      "Epoch 6/2000\n",
      "3/3 [==============================] - 1s 191ms/step - loss: 7.7884 - categorical_accuracy: 0.3882\n",
      "Epoch 7/2000\n",
      "3/3 [==============================] - 1s 205ms/step - loss: 6.8100 - categorical_accuracy: 0.2706\n",
      "Epoch 8/2000\n",
      "3/3 [==============================] - 1s 167ms/step - loss: 11.9861 - categorical_accuracy: 0.2824\n",
      "Epoch 9/2000\n",
      "3/3 [==============================] - 1s 162ms/step - loss: 12.3127 - categorical_accuracy: 0.2941\n",
      "Epoch 10/2000\n",
      "3/3 [==============================] - 1s 238ms/step - loss: 22.0674 - categorical_accuracy: 0.2588\n",
      "Epoch 11/2000\n",
      "3/3 [==============================] - 1s 171ms/step - loss: 12.3121 - categorical_accuracy: 0.2941\n",
      "Epoch 12/2000\n",
      "3/3 [==============================] - 1s 161ms/step - loss: 17.6184 - categorical_accuracy: 0.2235\n",
      "Epoch 13/2000\n",
      "3/3 [==============================] - 1s 170ms/step - loss: 12.2551 - categorical_accuracy: 0.3059\n",
      "Epoch 14/2000\n",
      "3/3 [==============================] - 1s 229ms/step - loss: 10.7446 - categorical_accuracy: 0.3294\n",
      "Epoch 15/2000\n",
      "3/3 [==============================] - 0s 159ms/step - loss: 11.0834 - categorical_accuracy: 0.3176\n",
      "Epoch 16/2000\n",
      "3/3 [==============================] - 0s 157ms/step - loss: 13.8671 - categorical_accuracy: 0.2941\n",
      "Epoch 17/2000\n",
      "3/3 [==============================] - 1s 190ms/step - loss: 10.8853 - categorical_accuracy: 0.3412\n",
      "Epoch 18/2000\n",
      "3/3 [==============================] - 1s 158ms/step - loss: 4.3232 - categorical_accuracy: 0.4824\n",
      "Epoch 19/2000\n",
      "3/3 [==============================] - 1s 170ms/step - loss: 11.4667 - categorical_accuracy: 0.2588\n",
      "Epoch 20/2000\n",
      "3/3 [==============================] - 1s 188ms/step - loss: 26.3573 - categorical_accuracy: 0.3059\n",
      "Epoch 21/2000\n",
      "3/3 [==============================] - 1s 157ms/step - loss: 33.1702 - categorical_accuracy: 0.3294\n",
      "Epoch 22/2000\n",
      "3/3 [==============================] - 1s 227ms/step - loss: 19.8842 - categorical_accuracy: 0.4706\n",
      "Epoch 23/2000\n",
      "3/3 [==============================] - 0s 153ms/step - loss: 11.4338 - categorical_accuracy: 0.4471\n",
      "Epoch 24/2000\n",
      "3/3 [==============================] - 1s 155ms/step - loss: 11.2981 - categorical_accuracy: 0.5412\n",
      "Epoch 25/2000\n",
      "3/3 [==============================] - 0s 157ms/step - loss: 12.5530 - categorical_accuracy: 0.3529\n",
      "Epoch 26/2000\n",
      "3/3 [==============================] - 1s 159ms/step - loss: 10.0383 - categorical_accuracy: 0.4824\n",
      "Epoch 27/2000\n",
      "3/3 [==============================] - 1s 162ms/step - loss: 12.4602 - categorical_accuracy: 0.4706\n",
      "Epoch 28/2000\n",
      "3/3 [==============================] - 1s 268ms/step - loss: 14.6637 - categorical_accuracy: 0.3882\n",
      "Epoch 29/2000\n",
      "3/3 [==============================] - 1s 174ms/step - loss: 15.4404 - categorical_accuracy: 0.4118\n",
      "Epoch 30/2000\n",
      "3/3 [==============================] - 1s 242ms/step - loss: 6.9735 - categorical_accuracy: 0.2588\n",
      "Epoch 31/2000\n",
      "3/3 [==============================] - 0s 159ms/step - loss: 3.0426 - categorical_accuracy: 0.4588\n",
      "Epoch 32/2000\n",
      "3/3 [==============================] - 1s 168ms/step - loss: 2.5627 - categorical_accuracy: 0.4941\n",
      "Epoch 33/2000\n",
      "3/3 [==============================] - 0s 156ms/step - loss: 1.4285 - categorical_accuracy: 0.4235\n",
      "Epoch 34/2000\n",
      "3/3 [==============================] - 1s 178ms/step - loss: 1.2483 - categorical_accuracy: 0.3412\n",
      "Epoch 35/2000\n",
      "3/3 [==============================] - 1s 194ms/step - loss: 0.9076 - categorical_accuracy: 0.5176\n",
      "Epoch 36/2000\n",
      "3/3 [==============================] - 1s 162ms/step - loss: 1.0591 - categorical_accuracy: 0.5059\n",
      "Epoch 37/2000\n",
      "3/3 [==============================] - 1s 180ms/step - loss: 1.0024 - categorical_accuracy: 0.5529\n",
      "Epoch 38/2000\n",
      "3/3 [==============================] - 1s 167ms/step - loss: 0.9316 - categorical_accuracy: 0.5412\n",
      "Epoch 39/2000\n",
      "3/3 [==============================] - 1s 197ms/step - loss: 0.9229 - categorical_accuracy: 0.4824\n",
      "Epoch 40/2000\n",
      "3/3 [==============================] - 1s 181ms/step - loss: 0.9108 - categorical_accuracy: 0.5059\n",
      "Epoch 41/2000\n",
      "3/3 [==============================] - 1s 233ms/step - loss: 0.8947 - categorical_accuracy: 0.4353\n",
      "Epoch 42/2000\n",
      "3/3 [==============================] - 1s 171ms/step - loss: 0.9063 - categorical_accuracy: 0.4353\n",
      "Epoch 43/2000\n",
      "3/3 [==============================] - 1s 170ms/step - loss: 0.8957 - categorical_accuracy: 0.5647\n",
      "Epoch 44/2000\n",
      "3/3 [==============================] - 1s 159ms/step - loss: 0.8931 - categorical_accuracy: 0.4471\n",
      "Epoch 45/2000\n",
      "3/3 [==============================] - 0s 161ms/step - loss: 0.8668 - categorical_accuracy: 0.5294\n",
      "Epoch 46/2000\n",
      "3/3 [==============================] - 1s 160ms/step - loss: 0.8851 - categorical_accuracy: 0.5176\n",
      "Epoch 47/2000\n",
      "3/3 [==============================] - 0s 152ms/step - loss: 0.9528 - categorical_accuracy: 0.5294\n",
      "Epoch 48/2000\n",
      "3/3 [==============================] - 0s 154ms/step - loss: 0.8905 - categorical_accuracy: 0.4235\n",
      "Epoch 49/2000\n",
      "3/3 [==============================] - 1s 159ms/step - loss: 0.8849 - categorical_accuracy: 0.5059\n",
      "Epoch 50/2000\n",
      "3/3 [==============================] - 1s 172ms/step - loss: 0.8727 - categorical_accuracy: 0.5412\n",
      "Epoch 51/2000\n",
      "3/3 [==============================] - 1s 207ms/step - loss: 0.9274 - categorical_accuracy: 0.4824\n",
      "Epoch 52/2000\n",
      "3/3 [==============================] - 1s 241ms/step - loss: 0.9549 - categorical_accuracy: 0.4706\n",
      "Epoch 53/2000\n",
      "3/3 [==============================] - 1s 194ms/step - loss: 0.8573 - categorical_accuracy: 0.5059\n",
      "Epoch 54/2000\n",
      "3/3 [==============================] - 0s 152ms/step - loss: 0.8991 - categorical_accuracy: 0.5176\n",
      "Epoch 55/2000\n",
      "3/3 [==============================] - 1s 199ms/step - loss: 0.8795 - categorical_accuracy: 0.5176\n",
      "Epoch 56/2000\n",
      "3/3 [==============================] - 1s 208ms/step - loss: 0.8464 - categorical_accuracy: 0.5529\n",
      "Epoch 57/2000\n",
      "3/3 [==============================] - 1s 214ms/step - loss: 0.8832 - categorical_accuracy: 0.5059\n",
      "Epoch 58/2000\n",
      "3/3 [==============================] - 1s 213ms/step - loss: 0.9234 - categorical_accuracy: 0.5294\n",
      "Epoch 59/2000\n",
      "3/3 [==============================] - 1s 236ms/step - loss: 0.8601 - categorical_accuracy: 0.5294\n",
      "Epoch 60/2000\n",
      "3/3 [==============================] - 1s 206ms/step - loss: 0.9089 - categorical_accuracy: 0.5529\n",
      "Epoch 61/2000\n",
      "3/3 [==============================] - 1s 189ms/step - loss: 0.8862 - categorical_accuracy: 0.5176\n",
      "Epoch 62/2000\n",
      "3/3 [==============================] - 1s 228ms/step - loss: 0.8595 - categorical_accuracy: 0.5412\n",
      "Epoch 63/2000\n",
      "3/3 [==============================] - 1s 158ms/step - loss: 0.8565 - categorical_accuracy: 0.5765\n",
      "Epoch 64/2000\n",
      "3/3 [==============================] - 1s 170ms/step - loss: 0.8820 - categorical_accuracy: 0.5059\n",
      "Epoch 65/2000\n",
      "3/3 [==============================] - 1s 175ms/step - loss: 0.8657 - categorical_accuracy: 0.5412\n",
      "Epoch 66/2000\n",
      "3/3 [==============================] - 1s 172ms/step - loss: 0.8429 - categorical_accuracy: 0.5412\n",
      "Epoch 67/2000\n",
      "3/3 [==============================] - 1s 171ms/step - loss: 0.8529 - categorical_accuracy: 0.5294\n",
      "Epoch 68/2000\n",
      "3/3 [==============================] - 1s 176ms/step - loss: 0.8814 - categorical_accuracy: 0.5059\n",
      "Epoch 69/2000\n",
      "3/3 [==============================] - 1s 225ms/step - loss: 0.9219 - categorical_accuracy: 0.5176\n",
      "Epoch 70/2000\n",
      "3/3 [==============================] - 1s 206ms/step - loss: 0.8787 - categorical_accuracy: 0.4824\n",
      "Epoch 71/2000\n",
      "3/3 [==============================] - 1s 207ms/step - loss: 0.8930 - categorical_accuracy: 0.5176\n",
      "Epoch 72/2000\n",
      "3/3 [==============================] - 1s 218ms/step - loss: 0.8585 - categorical_accuracy: 0.5647\n",
      "Epoch 73/2000\n"
     ]
    },
    {
     "name": "stdout",
     "output_type": "stream",
     "text": [
      "3/3 [==============================] - 1s 223ms/step - loss: 0.8467 - categorical_accuracy: 0.5529\n",
      "Epoch 74/2000\n",
      "3/3 [==============================] - 1s 220ms/step - loss: 0.9062 - categorical_accuracy: 0.5294\n",
      "Epoch 75/2000\n",
      "3/3 [==============================] - 1s 232ms/step - loss: 0.8689 - categorical_accuracy: 0.5412\n",
      "Epoch 76/2000\n",
      "3/3 [==============================] - 1s 203ms/step - loss: 0.9029 - categorical_accuracy: 0.5529\n",
      "Epoch 77/2000\n",
      "3/3 [==============================] - 1s 190ms/step - loss: 0.8323 - categorical_accuracy: 0.5294\n",
      "Epoch 78/2000\n",
      "3/3 [==============================] - 1s 264ms/step - loss: 0.8577 - categorical_accuracy: 0.5059\n",
      "Epoch 79/2000\n",
      "3/3 [==============================] - 1s 175ms/step - loss: 0.8329 - categorical_accuracy: 0.5529\n",
      "Epoch 80/2000\n",
      "3/3 [==============================] - 1s 199ms/step - loss: 0.8630 - categorical_accuracy: 0.5059\n",
      "Epoch 81/2000\n",
      "3/3 [==============================] - 1s 207ms/step - loss: 0.7984 - categorical_accuracy: 0.6235\n",
      "Epoch 82/2000\n",
      "3/3 [==============================] - 1s 204ms/step - loss: 0.8070 - categorical_accuracy: 0.6118\n",
      "Epoch 83/2000\n",
      "3/3 [==============================] - 1s 216ms/step - loss: 0.8373 - categorical_accuracy: 0.5059\n",
      "Epoch 84/2000\n",
      "3/3 [==============================] - 1s 203ms/step - loss: 0.8279 - categorical_accuracy: 0.5176\n",
      "Epoch 85/2000\n",
      "3/3 [==============================] - 1s 163ms/step - loss: 0.8116 - categorical_accuracy: 0.5882\n",
      "Epoch 86/2000\n",
      "3/3 [==============================] - 1s 184ms/step - loss: 0.7765 - categorical_accuracy: 0.6353\n",
      "Epoch 87/2000\n",
      "3/3 [==============================] - 1s 230ms/step - loss: 0.8897 - categorical_accuracy: 0.5059\n",
      "Epoch 88/2000\n",
      "3/3 [==============================] - 1s 216ms/step - loss: 0.7808 - categorical_accuracy: 0.6118\n",
      "Epoch 89/2000\n",
      "3/3 [==============================] - 1s 200ms/step - loss: 0.8291 - categorical_accuracy: 0.5412\n",
      "Epoch 90/2000\n",
      "3/3 [==============================] - 1s 207ms/step - loss: 0.8046 - categorical_accuracy: 0.5176\n",
      "Epoch 91/2000\n",
      "3/3 [==============================] - 1s 212ms/step - loss: 0.8180 - categorical_accuracy: 0.5412\n",
      "Epoch 92/2000\n",
      "3/3 [==============================] - 1s 217ms/step - loss: 0.8694 - categorical_accuracy: 0.5412\n",
      "Epoch 93/2000\n",
      "3/3 [==============================] - 1s 202ms/step - loss: 0.7920 - categorical_accuracy: 0.5882\n",
      "Epoch 94/2000\n",
      "3/3 [==============================] - 1s 192ms/step - loss: 0.7988 - categorical_accuracy: 0.5765\n",
      "Epoch 95/2000\n",
      "3/3 [==============================] - 1s 201ms/step - loss: 0.8898 - categorical_accuracy: 0.5176\n",
      "Epoch 96/2000\n",
      "2/3 [===================>..........] - ETA: 0s - loss: 0.7519 - categorical_accuracy: 0.6094"
     ]
    },
    {
     "ename": "KeyboardInterrupt",
     "evalue": "",
     "output_type": "error",
     "traceback": [
      "\u001b[1;31m---------------------------------------------------------------------------\u001b[0m",
      "\u001b[1;31mKeyboardInterrupt\u001b[0m                         Traceback (most recent call last)",
      "\u001b[1;32m~\\AppData\\Local\\Temp/ipykernel_8584/3016725419.py\u001b[0m in \u001b[0;36m<module>\u001b[1;34m\u001b[0m\n\u001b[1;32m----> 1\u001b[1;33m \u001b[0mmodel\u001b[0m\u001b[1;33m.\u001b[0m\u001b[0mfit\u001b[0m\u001b[1;33m(\u001b[0m\u001b[0mX_train\u001b[0m\u001b[1;33m,\u001b[0m \u001b[0my_train\u001b[0m\u001b[1;33m,\u001b[0m \u001b[0mepochs\u001b[0m \u001b[1;33m=\u001b[0m \u001b[1;36m2000\u001b[0m\u001b[1;33m,\u001b[0m \u001b[0mcallbacks\u001b[0m \u001b[1;33m=\u001b[0m \u001b[1;33m[\u001b[0m\u001b[0mtb_callbacks\u001b[0m\u001b[1;33m]\u001b[0m\u001b[1;33m)\u001b[0m\u001b[1;33m\u001b[0m\u001b[1;33m\u001b[0m\u001b[0m\n\u001b[0m",
      "\u001b[1;32m~\\anaconda3\\lib\\site-packages\\keras\\utils\\traceback_utils.py\u001b[0m in \u001b[0;36merror_handler\u001b[1;34m(*args, **kwargs)\u001b[0m\n\u001b[0;32m     62\u001b[0m     \u001b[0mfiltered_tb\u001b[0m \u001b[1;33m=\u001b[0m \u001b[1;32mNone\u001b[0m\u001b[1;33m\u001b[0m\u001b[1;33m\u001b[0m\u001b[0m\n\u001b[0;32m     63\u001b[0m     \u001b[1;32mtry\u001b[0m\u001b[1;33m:\u001b[0m\u001b[1;33m\u001b[0m\u001b[1;33m\u001b[0m\u001b[0m\n\u001b[1;32m---> 64\u001b[1;33m       \u001b[1;32mreturn\u001b[0m \u001b[0mfn\u001b[0m\u001b[1;33m(\u001b[0m\u001b[1;33m*\u001b[0m\u001b[0margs\u001b[0m\u001b[1;33m,\u001b[0m \u001b[1;33m**\u001b[0m\u001b[0mkwargs\u001b[0m\u001b[1;33m)\u001b[0m\u001b[1;33m\u001b[0m\u001b[1;33m\u001b[0m\u001b[0m\n\u001b[0m\u001b[0;32m     65\u001b[0m     \u001b[1;32mexcept\u001b[0m \u001b[0mException\u001b[0m \u001b[1;32mas\u001b[0m \u001b[0me\u001b[0m\u001b[1;33m:\u001b[0m  \u001b[1;31m# pylint: disable=broad-except\u001b[0m\u001b[1;33m\u001b[0m\u001b[1;33m\u001b[0m\u001b[0m\n\u001b[0;32m     66\u001b[0m       \u001b[0mfiltered_tb\u001b[0m \u001b[1;33m=\u001b[0m \u001b[0m_process_traceback_frames\u001b[0m\u001b[1;33m(\u001b[0m\u001b[0me\u001b[0m\u001b[1;33m.\u001b[0m\u001b[0m__traceback__\u001b[0m\u001b[1;33m)\u001b[0m\u001b[1;33m\u001b[0m\u001b[1;33m\u001b[0m\u001b[0m\n",
      "\u001b[1;32m~\\anaconda3\\lib\\site-packages\\keras\\engine\\training.py\u001b[0m in \u001b[0;36mfit\u001b[1;34m(self, x, y, batch_size, epochs, verbose, callbacks, validation_split, validation_data, shuffle, class_weight, sample_weight, initial_epoch, steps_per_epoch, validation_steps, validation_batch_size, validation_freq, max_queue_size, workers, use_multiprocessing)\u001b[0m\n\u001b[0;32m   1382\u001b[0m                 _r=1):\n\u001b[0;32m   1383\u001b[0m               \u001b[0mcallbacks\u001b[0m\u001b[1;33m.\u001b[0m\u001b[0mon_train_batch_begin\u001b[0m\u001b[1;33m(\u001b[0m\u001b[0mstep\u001b[0m\u001b[1;33m)\u001b[0m\u001b[1;33m\u001b[0m\u001b[1;33m\u001b[0m\u001b[0m\n\u001b[1;32m-> 1384\u001b[1;33m               \u001b[0mtmp_logs\u001b[0m \u001b[1;33m=\u001b[0m \u001b[0mself\u001b[0m\u001b[1;33m.\u001b[0m\u001b[0mtrain_function\u001b[0m\u001b[1;33m(\u001b[0m\u001b[0miterator\u001b[0m\u001b[1;33m)\u001b[0m\u001b[1;33m\u001b[0m\u001b[1;33m\u001b[0m\u001b[0m\n\u001b[0m\u001b[0;32m   1385\u001b[0m               \u001b[1;32mif\u001b[0m \u001b[0mdata_handler\u001b[0m\u001b[1;33m.\u001b[0m\u001b[0mshould_sync\u001b[0m\u001b[1;33m:\u001b[0m\u001b[1;33m\u001b[0m\u001b[1;33m\u001b[0m\u001b[0m\n\u001b[0;32m   1386\u001b[0m                 \u001b[0mcontext\u001b[0m\u001b[1;33m.\u001b[0m\u001b[0masync_wait\u001b[0m\u001b[1;33m(\u001b[0m\u001b[1;33m)\u001b[0m\u001b[1;33m\u001b[0m\u001b[1;33m\u001b[0m\u001b[0m\n",
      "\u001b[1;32m~\\anaconda3\\lib\\site-packages\\tensorflow\\python\\util\\traceback_utils.py\u001b[0m in \u001b[0;36merror_handler\u001b[1;34m(*args, **kwargs)\u001b[0m\n\u001b[0;32m    148\u001b[0m     \u001b[0mfiltered_tb\u001b[0m \u001b[1;33m=\u001b[0m \u001b[1;32mNone\u001b[0m\u001b[1;33m\u001b[0m\u001b[1;33m\u001b[0m\u001b[0m\n\u001b[0;32m    149\u001b[0m     \u001b[1;32mtry\u001b[0m\u001b[1;33m:\u001b[0m\u001b[1;33m\u001b[0m\u001b[1;33m\u001b[0m\u001b[0m\n\u001b[1;32m--> 150\u001b[1;33m       \u001b[1;32mreturn\u001b[0m \u001b[0mfn\u001b[0m\u001b[1;33m(\u001b[0m\u001b[1;33m*\u001b[0m\u001b[0margs\u001b[0m\u001b[1;33m,\u001b[0m \u001b[1;33m**\u001b[0m\u001b[0mkwargs\u001b[0m\u001b[1;33m)\u001b[0m\u001b[1;33m\u001b[0m\u001b[1;33m\u001b[0m\u001b[0m\n\u001b[0m\u001b[0;32m    151\u001b[0m     \u001b[1;32mexcept\u001b[0m \u001b[0mException\u001b[0m \u001b[1;32mas\u001b[0m \u001b[0me\u001b[0m\u001b[1;33m:\u001b[0m\u001b[1;33m\u001b[0m\u001b[1;33m\u001b[0m\u001b[0m\n\u001b[0;32m    152\u001b[0m       \u001b[0mfiltered_tb\u001b[0m \u001b[1;33m=\u001b[0m \u001b[0m_process_traceback_frames\u001b[0m\u001b[1;33m(\u001b[0m\u001b[0me\u001b[0m\u001b[1;33m.\u001b[0m\u001b[0m__traceback__\u001b[0m\u001b[1;33m)\u001b[0m\u001b[1;33m\u001b[0m\u001b[1;33m\u001b[0m\u001b[0m\n",
      "\u001b[1;32m~\\anaconda3\\lib\\site-packages\\tensorflow\\python\\eager\\def_function.py\u001b[0m in \u001b[0;36m__call__\u001b[1;34m(self, *args, **kwds)\u001b[0m\n\u001b[0;32m    913\u001b[0m \u001b[1;33m\u001b[0m\u001b[0m\n\u001b[0;32m    914\u001b[0m       \u001b[1;32mwith\u001b[0m \u001b[0mOptionalXlaContext\u001b[0m\u001b[1;33m(\u001b[0m\u001b[0mself\u001b[0m\u001b[1;33m.\u001b[0m\u001b[0m_jit_compile\u001b[0m\u001b[1;33m)\u001b[0m\u001b[1;33m:\u001b[0m\u001b[1;33m\u001b[0m\u001b[1;33m\u001b[0m\u001b[0m\n\u001b[1;32m--> 915\u001b[1;33m         \u001b[0mresult\u001b[0m \u001b[1;33m=\u001b[0m \u001b[0mself\u001b[0m\u001b[1;33m.\u001b[0m\u001b[0m_call\u001b[0m\u001b[1;33m(\u001b[0m\u001b[1;33m*\u001b[0m\u001b[0margs\u001b[0m\u001b[1;33m,\u001b[0m \u001b[1;33m**\u001b[0m\u001b[0mkwds\u001b[0m\u001b[1;33m)\u001b[0m\u001b[1;33m\u001b[0m\u001b[1;33m\u001b[0m\u001b[0m\n\u001b[0m\u001b[0;32m    916\u001b[0m \u001b[1;33m\u001b[0m\u001b[0m\n\u001b[0;32m    917\u001b[0m       \u001b[0mnew_tracing_count\u001b[0m \u001b[1;33m=\u001b[0m \u001b[0mself\u001b[0m\u001b[1;33m.\u001b[0m\u001b[0mexperimental_get_tracing_count\u001b[0m\u001b[1;33m(\u001b[0m\u001b[1;33m)\u001b[0m\u001b[1;33m\u001b[0m\u001b[1;33m\u001b[0m\u001b[0m\n",
      "\u001b[1;32m~\\anaconda3\\lib\\site-packages\\tensorflow\\python\\eager\\def_function.py\u001b[0m in \u001b[0;36m_call\u001b[1;34m(self, *args, **kwds)\u001b[0m\n\u001b[0;32m    945\u001b[0m       \u001b[1;31m# In this case we have created variables on the first call, so we run the\u001b[0m\u001b[1;33m\u001b[0m\u001b[1;33m\u001b[0m\u001b[0m\n\u001b[0;32m    946\u001b[0m       \u001b[1;31m# defunned version which is guaranteed to never create variables.\u001b[0m\u001b[1;33m\u001b[0m\u001b[1;33m\u001b[0m\u001b[0m\n\u001b[1;32m--> 947\u001b[1;33m       \u001b[1;32mreturn\u001b[0m \u001b[0mself\u001b[0m\u001b[1;33m.\u001b[0m\u001b[0m_stateless_fn\u001b[0m\u001b[1;33m(\u001b[0m\u001b[1;33m*\u001b[0m\u001b[0margs\u001b[0m\u001b[1;33m,\u001b[0m \u001b[1;33m**\u001b[0m\u001b[0mkwds\u001b[0m\u001b[1;33m)\u001b[0m  \u001b[1;31m# pylint: disable=not-callable\u001b[0m\u001b[1;33m\u001b[0m\u001b[1;33m\u001b[0m\u001b[0m\n\u001b[0m\u001b[0;32m    948\u001b[0m     \u001b[1;32melif\u001b[0m \u001b[0mself\u001b[0m\u001b[1;33m.\u001b[0m\u001b[0m_stateful_fn\u001b[0m \u001b[1;32mis\u001b[0m \u001b[1;32mnot\u001b[0m \u001b[1;32mNone\u001b[0m\u001b[1;33m:\u001b[0m\u001b[1;33m\u001b[0m\u001b[1;33m\u001b[0m\u001b[0m\n\u001b[0;32m    949\u001b[0m       \u001b[1;31m# Release the lock early so that multiple threads can perform the call\u001b[0m\u001b[1;33m\u001b[0m\u001b[1;33m\u001b[0m\u001b[0m\n",
      "\u001b[1;32m~\\anaconda3\\lib\\site-packages\\tensorflow\\python\\eager\\function.py\u001b[0m in \u001b[0;36m__call__\u001b[1;34m(self, *args, **kwargs)\u001b[0m\n\u001b[0;32m   2954\u001b[0m       (graph_function,\n\u001b[0;32m   2955\u001b[0m        filtered_flat_args) = self._maybe_define_function(args, kwargs)\n\u001b[1;32m-> 2956\u001b[1;33m     return graph_function._call_flat(\n\u001b[0m\u001b[0;32m   2957\u001b[0m         filtered_flat_args, captured_inputs=graph_function.captured_inputs)  # pylint: disable=protected-access\n\u001b[0;32m   2958\u001b[0m \u001b[1;33m\u001b[0m\u001b[0m\n",
      "\u001b[1;32m~\\anaconda3\\lib\\site-packages\\tensorflow\\python\\eager\\function.py\u001b[0m in \u001b[0;36m_call_flat\u001b[1;34m(self, args, captured_inputs, cancellation_manager)\u001b[0m\n\u001b[0;32m   1851\u001b[0m         and executing_eagerly):\n\u001b[0;32m   1852\u001b[0m       \u001b[1;31m# No tape is watching; skip to running the function.\u001b[0m\u001b[1;33m\u001b[0m\u001b[1;33m\u001b[0m\u001b[0m\n\u001b[1;32m-> 1853\u001b[1;33m       return self._build_call_outputs(self._inference_function.call(\n\u001b[0m\u001b[0;32m   1854\u001b[0m           ctx, args, cancellation_manager=cancellation_manager))\n\u001b[0;32m   1855\u001b[0m     forward_backward = self._select_forward_and_backward_functions(\n",
      "\u001b[1;32m~\\anaconda3\\lib\\site-packages\\tensorflow\\python\\eager\\function.py\u001b[0m in \u001b[0;36mcall\u001b[1;34m(self, ctx, args, cancellation_manager)\u001b[0m\n\u001b[0;32m    497\u001b[0m       \u001b[1;32mwith\u001b[0m \u001b[0m_InterpolateFunctionError\u001b[0m\u001b[1;33m(\u001b[0m\u001b[0mself\u001b[0m\u001b[1;33m)\u001b[0m\u001b[1;33m:\u001b[0m\u001b[1;33m\u001b[0m\u001b[1;33m\u001b[0m\u001b[0m\n\u001b[0;32m    498\u001b[0m         \u001b[1;32mif\u001b[0m \u001b[0mcancellation_manager\u001b[0m \u001b[1;32mis\u001b[0m \u001b[1;32mNone\u001b[0m\u001b[1;33m:\u001b[0m\u001b[1;33m\u001b[0m\u001b[1;33m\u001b[0m\u001b[0m\n\u001b[1;32m--> 499\u001b[1;33m           outputs = execute.execute(\n\u001b[0m\u001b[0;32m    500\u001b[0m               \u001b[0mstr\u001b[0m\u001b[1;33m(\u001b[0m\u001b[0mself\u001b[0m\u001b[1;33m.\u001b[0m\u001b[0msignature\u001b[0m\u001b[1;33m.\u001b[0m\u001b[0mname\u001b[0m\u001b[1;33m)\u001b[0m\u001b[1;33m,\u001b[0m\u001b[1;33m\u001b[0m\u001b[1;33m\u001b[0m\u001b[0m\n\u001b[0;32m    501\u001b[0m               \u001b[0mnum_outputs\u001b[0m\u001b[1;33m=\u001b[0m\u001b[0mself\u001b[0m\u001b[1;33m.\u001b[0m\u001b[0m_num_outputs\u001b[0m\u001b[1;33m,\u001b[0m\u001b[1;33m\u001b[0m\u001b[1;33m\u001b[0m\u001b[0m\n",
      "\u001b[1;32m~\\anaconda3\\lib\\site-packages\\tensorflow\\python\\eager\\execute.py\u001b[0m in \u001b[0;36mquick_execute\u001b[1;34m(op_name, num_outputs, inputs, attrs, ctx, name)\u001b[0m\n\u001b[0;32m     52\u001b[0m   \u001b[1;32mtry\u001b[0m\u001b[1;33m:\u001b[0m\u001b[1;33m\u001b[0m\u001b[1;33m\u001b[0m\u001b[0m\n\u001b[0;32m     53\u001b[0m     \u001b[0mctx\u001b[0m\u001b[1;33m.\u001b[0m\u001b[0mensure_initialized\u001b[0m\u001b[1;33m(\u001b[0m\u001b[1;33m)\u001b[0m\u001b[1;33m\u001b[0m\u001b[1;33m\u001b[0m\u001b[0m\n\u001b[1;32m---> 54\u001b[1;33m     tensors = pywrap_tfe.TFE_Py_Execute(ctx._handle, device_name, op_name,\n\u001b[0m\u001b[0;32m     55\u001b[0m                                         inputs, attrs, num_outputs)\n\u001b[0;32m     56\u001b[0m   \u001b[1;32mexcept\u001b[0m \u001b[0mcore\u001b[0m\u001b[1;33m.\u001b[0m\u001b[0m_NotOkStatusException\u001b[0m \u001b[1;32mas\u001b[0m \u001b[0me\u001b[0m\u001b[1;33m:\u001b[0m\u001b[1;33m\u001b[0m\u001b[1;33m\u001b[0m\u001b[0m\n",
      "\u001b[1;31mKeyboardInterrupt\u001b[0m: "
     ]
    }
   ],
   "source": [
    "model.fit(X_train, y_train, epochs = 2000, callbacks = [tb_callbacks])"
   ]
  },
  {
   "cell_type": "code",
   "execution_count": null,
   "id": "d81d55b1",
   "metadata": {},
   "outputs": [],
   "source": []
  }
 ],
 "metadata": {
  "kernelspec": {
   "display_name": "tfod",
   "language": "python",
   "name": "tfod"
  },
  "language_info": {
   "codemirror_mode": {
    "name": "ipython",
    "version": 3
   },
   "file_extension": ".py",
   "mimetype": "text/x-python",
   "name": "python",
   "nbconvert_exporter": "python",
   "pygments_lexer": "ipython3",
   "version": "3.9.7"
  }
 },
 "nbformat": 4,
 "nbformat_minor": 5
}
